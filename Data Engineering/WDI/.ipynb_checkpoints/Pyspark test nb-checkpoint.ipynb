{
 "cells": [
  {
   "cell_type": "code",
   "execution_count": 1,
   "metadata": {},
   "outputs": [],
   "source": [
    "import os\n",
    "import findspark\n",
    "findspark.init()\n",
    "import pyspark\n",
    "import random\n",
    "\n",
    "driver_memory = '4g'\n",
    "num_executors = 2\n",
    "executor_memory = '1g'\n",
    "#pyspark_submit_args = ' --driver-memory ' + driver_memory + ' --executor-memory ' + executor_memory + ' --num-executors ' + num_executors + ' pyspark-shell'\n",
    "pyspark_submit_args = ' --driver-memory ' + driver_memory + ' pyspark-shell'\n",
    "\n",
    "os.environ[\"PYSPARK_SUBMIT_ARGS\"] = pyspark_submit_args"
   ]
  },
  {
   "cell_type": "code",
   "execution_count": 2,
   "metadata": {},
   "outputs": [],
   "source": [
    "sc = pyspark.SparkContext(appName=\"Pi\")"
   ]
  },
  {
   "cell_type": "code",
   "execution_count": 3,
   "metadata": {},
   "outputs": [
    {
     "name": "stdout",
     "output_type": "stream",
     "text": [
      "3.14217336\n"
     ]
    }
   ],
   "source": [
    "num_samples = 100000000\n",
    "def inside(p):     \n",
    "  x, y = random.random(), random.random()\n",
    "  return x*x + y*y < 1\n",
    "count = sc.parallelize(range(0, num_samples)).filter(inside).count()\n",
    "pi = 4.0 * count / num_samples\n",
    "print(pi)"
   ]
  },
  {
   "cell_type": "code",
   "execution_count": 8,
   "metadata": {},
   "outputs": [],
   "source": [
    "from pyspark.sql import SQLContext\n",
    "sqlContext = SQLContext(sc)"
   ]
  },
  {
   "cell_type": "code",
   "execution_count": 4,
   "metadata": {},
   "outputs": [],
   "source": [
    "from pyspark.sql import SparkSession\n",
    "spark = SparkSession.builder.appName(\"basics\").getOrCreate()"
   ]
  },
  {
   "cell_type": "code",
   "execution_count": 5,
   "metadata": {},
   "outputs": [],
   "source": [
    "#country = sqlContext.read.format(\"csv\").option(\"header\", \"true\").option(\"inferSchema\", \"true\").load(\"WDICountry.csv\")\n",
    "country = spark.read.format(\"csv\").option(\"header\", \"true\").option(\"inferSchema\", \"true\").load(\"WDICountry.csv\")\n"
   ]
  },
  {
   "cell_type": "code",
   "execution_count": 6,
   "metadata": {},
   "outputs": [
    {
     "name": "stdout",
     "output_type": "stream",
     "text": [
      "+--------------------+--------------------+--------------------+--------------------+------------+--------------------+--------------------+--------------------+-------------------+---------+---------------------------+--------------------------------+--------------------+----------------+------------+---------------------------+-----------------------------+--------------------+---------------------------------+------------------------------+--------------------+-----------------------------+-------------------------------+------------------------+-----------------------+-------------------------------------------------+---------------------------+--------------------------+----------------------+-----------------+----------------------------+----+\n",
      "|        Country Code|          Short Name|          Table Name|           Long Name|2-alpha code|       Currency Unit|       Special Notes|              Region|       Income Group|WB-2 code|National accounts base year|National accounts reference year| SNA price valuation|Lending category|Other groups|System of National Accounts|Alternative conversion factor|     PPP survey year|Balance of Payments Manual in use|External debt Reporting status|     System of trade|Government Accounting concept|IMF data dissemination standard|Latest population census|Latest household survey|Source of most recent Income and expenditure data|Vital registration complete|Latest agricultural census|Latest industrial data|Latest trade data|Latest water withdrawal data|_c31|\n",
      "+--------------------+--------------------+--------------------+--------------------+------------+--------------------+--------------------+--------------------+-------------------+---------+---------------------------+--------------------------------+--------------------+----------------+------------+---------------------------+-----------------------------+--------------------+---------------------------------+------------------------------+--------------------+-----------------------------+-------------------------------+------------------------+-----------------------+-------------------------------------------------+---------------------------+--------------------------+----------------------+-----------------+----------------------------+----+\n",
      "|                 ABW|               Aruba|               Aruba|               Aruba|          AW|       Aruban florin|SNA data for 2000...|Latin America & C...|        High income|       AW|                       2000|                            null|Value added at ba...|            null|        null|       Country uses the ...|                         null|                2011|             BPM5 (Converted i...|                          null|General trade system|                         null|           Enhanced General ...|                    2010|                   null|                                             null|                        Yes|                      null|                  null|             2016|                        null|null|\n",
      "|                 AFG|         Afghanistan|         Afghanistan|Islamic State of ...|          AF|      Afghan afghani|Fiscal year end: ...|          South Asia|         Low income|       AF|                    2002/03|                            null|Value added at ba...|             IDA|        HIPC|       Country uses the ...|                         null|                null|                             BPM6|                        Actual|General trade system|         Consolidated cent...|           Enhanced General ...|                    1979|   Demographic and H...|                             Integrated househ...|                       null|                      null|                  null|             2016|                        2000|null|\n",
      "|                 AGO|              Angola|              Angola|People's Republic...|          AO|      Angolan kwanza|                null|  Sub-Saharan Africa|Lower middle income|       AO|                       2002|                            null|Value added at pr...|            IBRD|        null|       Country uses the ...|                      1991–96|                2011|                             BPM6|                        Actual|Special trade system|         Budgetary central...|           Enhanced General ...|                    2014|   Demographic and H...|                             Integrated househ...|                       null|                      null|                  null|             2016|                        2005|null|\n",
      "|                 ALB|             Albania|             Albania| Republic of Albania|          AL|        Albanian lek|                null|Europe & Central ...|Upper middle income|       AL|       Original chained ...|                            1996|Value added at ba...|            IBRD|        null|       Country uses the ...|                         null|             Rolling|                             BPM6|                        Actual|Special trade system|         Consolidated cent...|           Enhanced General ...|                    2011|   Demographic and H...|                             Living Standards ...|                        Yes|                      2012|                  2013|             2016|                        2006|null|\n",
      "|                 AND|             Andorra|             Andorra|Principality of A...|          AD|                Euro|WB-3 code changed...|Europe & Central ...|        High income|       AD|                       2000|                            null|Value added at ba...|            null|        null|       Country uses the ...|                         null|                null|                             null|                          null|General trade system|                         null|                           null|    2011. Population ...|                   null|                                             null|                        Yes|                      null|                  null|             null|                        null|null|\n",
      "|                 ARB|          Arab World|          Arab World|          Arab World|          1A|                null|Arab World aggreg...|                null|               null|       1A|                       null|                            null|                null|            null|        null|                       null|                         null|                null|                             null|                          null|                null|                         null|                           null|                    null|                   null|                                             null|                       null|                      null|                  null|             2016|                        null|null|\n",
      "|                 ARE|United Arab Emirates|United Arab Emirates|United Arab Emirates|          AE|       U.A.E. dirham|                null|Middle East & Nor...|        High income|       AE|                       2010|                            null|Value added at ba...|            null|        null|       Country uses the ...|                         null|                2011|                             null|                          null|Special trade system|         Consolidated cent...|           Enhanced General ...|                    2010|   World Health Surv...|                                             null|                       null|                      2012|                  1985|             2016|                        2005|null|\n",
      "|                 ARG|           Argentina|           Argentina|  Argentine Republic|          AR|      Argentine peso|National Institut...|                null|               null|     null|                       null|                            null|                null|            null|        null|                       null|                         null|                null|                             null|                          null|                null|                         null|                           null|                    null|                   null|                                             null|                       null|                      null|                  null|             null|                        null|null|\n",
      "|The World Bank sy...| the World Bank h...|Latin America & C...| Upper middle income|          AR|                2004|                null|Value added at ba...|               IBRD|     null|       Country uses the ...|                1971–84; 2012-15|                null|            BPM6|      Actual|       Special trade system|         Consolidated cent...|Special Data Diss...|                             2010|          Multiple Indicato...|Integrated househ...|                          Yes|                           2008|                    2002|                   2016|                                             2011|                       null|                      null|                  null|             null|                        null|null|\n",
      "|                 ARM|             Armenia|             Armenia| Republic of Armenia|          AM|       Armenian dram|                null|Europe & Central ...|Lower middle income|       AM|       Original chained ...|                            1996|Value added at ba...|            IBRD|        null|       Country uses the ...|                      1990–95|                2011|                             BPM6|                        Actual|General trade system|         Consolidated cent...|           Special Data Diss...|                    2011|   Demographic and H...|                             Integrated househ...|                        Yes|                      2014|                  null|             2016|                        2012|null|\n",
      "|                 ASM|      American Samoa|      American Samoa|      American Samoa|          AS|         U.S. dollar|  New base Year 2009| East Asia & Pacific|Upper middle income|       AS|                       2009|                            null|                null|            null|        null|       Country uses the ...|                         null|2011 (household c...|                             null|                          null|Special trade system|                         null|                           null|                    2010|                   null|                                             null|                        Yes|                      2008|                  null|             2016|                        null|null|\n",
      "|                 ATG| Antigua and Barbuda| Antigua and Barbuda| Antigua and Barbuda|          AG|East Caribbean do...|                null|Latin America & C...|        High income|       AG|                       2006|                            null|Value added at ba...|            IBRD|        null|       Country uses the ...|                         null|                2011|                             BPM6|                          null|General trade system|         Budgetary central...|           Enhanced General ...|                    2011|                   null|                                             null|                        Yes|                      2007|                  null|             2016|                        2012|null|\n",
      "|                 AUS|           Australia|           Australia|Commonwealth of A...|          AU|   Australian dollar|Fiscal year end: ...| East Asia & Pacific|        High income|       AU|       Original chained ...|                            2015|Value added at ba...|            null|        null|       Country uses the ...|                         null|                2011|                             BPM6|                          null|General trade system|         Consolidated cent...|           Special Data Diss...|                    2016|                   null|                             Expenditure surve...|                        Yes|                      2011|                  2013|             2016|                        2013|null|\n",
      "|                 AUT|             Austria|             Austria| Republic of Austria|          AT|                Euro|A simple multipli...|Europe & Central ...|        High income|       AT|       Original chained ...|                            2010|Value added at ba...|            null|   Euro area|       Country uses the ...|                         null|             Rolling|                             BPM6|                          null|Special trade system|         Consolidated cent...|           Special Data Diss...|    2011. Population ...|                   null|                             Income survey (IS...|                        Yes|                      2010|                  2014|             2016|                        2010|null|\n",
      "|                 AZE|          Azerbaijan|          Azerbaijan|Republic of Azerb...|          AZ|     New Azeri manat|                null|Europe & Central ...|Upper middle income|       AZ|       Original chained ...|                            2000|Value added at ba...|            IBRD|        null|       Country uses the ...|                      1992–95|                2011|                             BPM6|                        Actual|General trade system|         Consolidated cent...|           Enhanced General ...|                    2009|   Demographic and H...|                             Living Standards ...|                        Yes|                      2015|                  2013|             2016|                        2012|null|\n",
      "|                 BDI|             Burundi|             Burundi| Republic of Burundi|          BI|       Burundi franc|                null|  Sub-Saharan Africa|         Low income|       BI|                       2005|                            null|Value added at ba...|             IDA|        HIPC|       Country uses the ...|                         null|                2011|                             BPM6|                        Actual|General trade system|         Budgetary central...|           Enhanced General ...|                    2008|   Demographic and H...|                             Core Welfare Indi...|                       null|                      null|                  2012|             2016|                        2000|null|\n",
      "|                 BEL|             Belgium|             Belgium|  Kingdom of Belgium|          BE|                Euro|A simple multipli...|Europe & Central ...|        High income|       BE|       Original chained ...|                            2010|Value added at ba...|            null|   Euro area|       Country uses the ...|                         null|             Rolling|                             BPM6|                          null|Special trade system|         Consolidated cent...|           Special Data Diss...|    2011. Population ...|                   null|                             Income survey (IS...|                        Yes|                      2010|                  2014|             2016|                        2009|null|\n",
      "|                 BEN|               Benin|               Benin|   Republic of Benin|          BJ|West African CFA ...|                null|  Sub-Saharan Africa|         Low income|       BJ|                       2007|                            null|Value added at ba...|             IDA|        HIPC|       Country uses the ...|                         1992|                2011|                             BPM6|                        Actual|General trade system|         Budgetary central...|           Enhanced General ...|                    2013|   Multiple Indicato...|                             Core Welfare Indi...|                       null|                      null|                  1981|             2016|                        2001|null|\n",
      "|                 BFA|        Burkina Faso|        Burkina Faso|        Burkina Faso|          BF|West African CFA ...|                null|  Sub-Saharan Africa|         Low income|       BF|                       1999|                            null|Value added at ba...|             IDA|        HIPC|       Country uses the ...|                      1992–93|                2011|                             BPM6|                        Actual|General trade system|         Budgetary central...|           Enhanced General ...|                    2006|   Living Standards ...|                             Core Welfare Indi...|                       null|                   2006-10|                  1983|             2016|                        2005|null|\n",
      "|                 BGD|          Bangladesh|          Bangladesh|People's Republic...|          BD|    Bangladeshi taka|Fiscal year end: ...|          South Asia|Lower middle income|       BD|                    2005/06|                            null|Value added at ba...|             IDA|        null|       Country uses the ...|                         null|                2011|                             BPM6|                        Actual|General trade system|         Budgetary central...|           Enhanced General ...|                    2011|   Demographic and H...|                             Integrated househ...|                       null|                      2008|                  2011|             2016|                        2008|null|\n",
      "+--------------------+--------------------+--------------------+--------------------+------------+--------------------+--------------------+--------------------+-------------------+---------+---------------------------+--------------------------------+--------------------+----------------+------------+---------------------------+-----------------------------+--------------------+---------------------------------+------------------------------+--------------------+-----------------------------+-------------------------------+------------------------+-----------------------+-------------------------------------------------+---------------------------+--------------------------+----------------------+-----------------+----------------------------+----+\n",
      "only showing top 20 rows\n",
      "\n"
     ]
    }
   ],
   "source": [
    "country.show()"
   ]
  },
  {
   "cell_type": "code",
   "execution_count": 7,
   "metadata": {},
   "outputs": [
    {
     "name": "stdout",
     "output_type": "stream",
     "text": [
      "root\n",
      " |-- Country Code: string (nullable = true)\n",
      " |-- Short Name: string (nullable = true)\n",
      " |-- Table Name: string (nullable = true)\n",
      " |-- Long Name: string (nullable = true)\n",
      " |-- 2-alpha code: string (nullable = true)\n",
      " |-- Currency Unit: string (nullable = true)\n",
      " |-- Special Notes: string (nullable = true)\n",
      " |-- Region: string (nullable = true)\n",
      " |-- Income Group: string (nullable = true)\n",
      " |-- WB-2 code: string (nullable = true)\n",
      " |-- National accounts base year: string (nullable = true)\n",
      " |-- National accounts reference year: string (nullable = true)\n",
      " |-- SNA price valuation: string (nullable = true)\n",
      " |-- Lending category: string (nullable = true)\n",
      " |-- Other groups: string (nullable = true)\n",
      " |-- System of National Accounts: string (nullable = true)\n",
      " |-- Alternative conversion factor: string (nullable = true)\n",
      " |-- PPP survey year: string (nullable = true)\n",
      " |-- Balance of Payments Manual in use: string (nullable = true)\n",
      " |-- External debt Reporting status: string (nullable = true)\n",
      " |-- System of trade: string (nullable = true)\n",
      " |-- Government Accounting concept: string (nullable = true)\n",
      " |-- IMF data dissemination standard: string (nullable = true)\n",
      " |-- Latest population census: string (nullable = true)\n",
      " |-- Latest household survey: string (nullable = true)\n",
      " |-- Source of most recent Income and expenditure data: string (nullable = true)\n",
      " |-- Vital registration complete: string (nullable = true)\n",
      " |-- Latest agricultural census: string (nullable = true)\n",
      " |-- Latest industrial data: integer (nullable = true)\n",
      " |-- Latest trade data: integer (nullable = true)\n",
      " |-- Latest water withdrawal data: integer (nullable = true)\n",
      " |-- _c31: string (nullable = true)\n",
      "\n"
     ]
    }
   ],
   "source": [
    "country.printSchema()"
   ]
  },
  {
   "cell_type": "code",
   "execution_count": 8,
   "metadata": {},
   "outputs": [],
   "source": [
    "country.withColumnRenamed(\"Country Code\", \"country_code\").registerTempTable(\"country\")"
   ]
  },
  {
   "cell_type": "code",
   "execution_count": 9,
   "metadata": {},
   "outputs": [
    {
     "name": "stdout",
     "output_type": "stream",
     "text": [
      "+------------+----------+----------+-----------------+------------+-------------+--------------------+----------+-------------------+---------+---------------------------+--------------------------------+--------------------+----------------+------------+---------------------------+-----------------------------+---------------+---------------------------------+------------------------------+--------------------+-----------------------------+-------------------------------+------------------------+-----------------------+-------------------------------------------------+---------------------------+--------------------------+----------------------+-----------------+----------------------------+----+\n",
      "|country_code|Short Name|Table Name|        Long Name|2-alpha code|Currency Unit|       Special Notes|    Region|       Income Group|WB-2 code|National accounts base year|National accounts reference year| SNA price valuation|Lending category|Other groups|System of National Accounts|Alternative conversion factor|PPP survey year|Balance of Payments Manual in use|External debt Reporting status|     System of trade|Government Accounting concept|IMF data dissemination standard|Latest population census|Latest household survey|Source of most recent Income and expenditure data|Vital registration complete|Latest agricultural census|Latest industrial data|Latest trade data|Latest water withdrawal data|_c31|\n",
      "+------------+----------+----------+-----------------+------------+-------------+--------------------+----------+-------------------+---------+---------------------------+--------------------------------+--------------------+----------------+------------+---------------------------+-----------------------------+---------------+---------------------------------+------------------------------+--------------------+-----------------------------+-------------------------------+------------------------+-----------------------+-------------------------------------------------+---------------------------+--------------------------+----------------------+-----------------+----------------------------+----+\n",
      "|         IND|     India|     India|Republic of India|          IN| Indian rupee|Fiscal year end: ...|South Asia|Lower middle income|       IN|                    2011/12|                            null|Value added at ba...|            IBRD|        null|       Country uses the ...|                         null|           2011|                             BPM6|                        Actual|General trade system|         Consolidated cent...|           Special Data Diss...|                    2011|   Demographic and H...|                             Integrated househ...|                       null|                   2010/11|                  2014|             2016|                        2010|null|\n",
      "+------------+----------+----------+-----------------+------------+-------------+--------------------+----------+-------------------+---------+---------------------------+--------------------------------+--------------------+----------------+------------+---------------------------+-----------------------------+---------------+---------------------------------+------------------------------+--------------------+-----------------------------+-------------------------------+------------------------+-----------------------+-------------------------------------------------+---------------------------+--------------------------+----------------------+-----------------+----------------------------+----+\n",
      "\n"
     ]
    }
   ],
   "source": [
    "#sqlContext.sql(\"select * from country where country_code like 'IN%'\").show()\n",
    "spark.sql(\"select * from country where country_code like 'IN%'\").show()"
   ]
  },
  {
   "cell_type": "code",
   "execution_count": 10,
   "metadata": {},
   "outputs": [],
   "source": [
    "#indicators = sqlContext.read.format(\"csv\").option(\"header\", \"true\").option(\"inferSchema\", \"true\").load(\"WDIData.csv\")\n",
    "indicators = spark.read.format(\"csv\").option(\"header\", \"true\").option(\"inferSchema\", \"true\").load(\"WDIData.csv\")\n"
   ]
  },
  {
   "cell_type": "code",
   "execution_count": 11,
   "metadata": {},
   "outputs": [
    {
     "name": "stdout",
     "output_type": "stream",
     "text": [
      "root\n",
      " |-- Country Name: string (nullable = true)\n",
      " |-- Country Code: string (nullable = true)\n",
      " |-- Indicator Name: string (nullable = true)\n",
      " |-- Indicator Code: string (nullable = true)\n",
      " |-- 1960: double (nullable = true)\n",
      " |-- 1961: double (nullable = true)\n",
      " |-- 1962: double (nullable = true)\n",
      " |-- 1963: double (nullable = true)\n",
      " |-- 1964: double (nullable = true)\n",
      " |-- 1965: double (nullable = true)\n",
      " |-- 1966: double (nullable = true)\n",
      " |-- 1967: double (nullable = true)\n",
      " |-- 1968: double (nullable = true)\n",
      " |-- 1969: double (nullable = true)\n",
      " |-- 1970: double (nullable = true)\n",
      " |-- 1971: double (nullable = true)\n",
      " |-- 1972: double (nullable = true)\n",
      " |-- 1973: double (nullable = true)\n",
      " |-- 1974: double (nullable = true)\n",
      " |-- 1975: double (nullable = true)\n",
      " |-- 1976: double (nullable = true)\n",
      " |-- 1977: double (nullable = true)\n",
      " |-- 1978: double (nullable = true)\n",
      " |-- 1979: double (nullable = true)\n",
      " |-- 1980: double (nullable = true)\n",
      " |-- 1981: double (nullable = true)\n",
      " |-- 1982: double (nullable = true)\n",
      " |-- 1983: double (nullable = true)\n",
      " |-- 1984: double (nullable = true)\n",
      " |-- 1985: double (nullable = true)\n",
      " |-- 1986: double (nullable = true)\n",
      " |-- 1987: double (nullable = true)\n",
      " |-- 1988: double (nullable = true)\n",
      " |-- 1989: double (nullable = true)\n",
      " |-- 1990: double (nullable = true)\n",
      " |-- 1991: double (nullable = true)\n",
      " |-- 1992: double (nullable = true)\n",
      " |-- 1993: double (nullable = true)\n",
      " |-- 1994: double (nullable = true)\n",
      " |-- 1995: double (nullable = true)\n",
      " |-- 1996: double (nullable = true)\n",
      " |-- 1997: double (nullable = true)\n",
      " |-- 1998: double (nullable = true)\n",
      " |-- 1999: double (nullable = true)\n",
      " |-- 2000: double (nullable = true)\n",
      " |-- 2001: double (nullable = true)\n",
      " |-- 2002: double (nullable = true)\n",
      " |-- 2003: double (nullable = true)\n",
      " |-- 2004: double (nullable = true)\n",
      " |-- 2005: double (nullable = true)\n",
      " |-- 2006: double (nullable = true)\n",
      " |-- 2007: double (nullable = true)\n",
      " |-- 2008: double (nullable = true)\n",
      " |-- 2009: double (nullable = true)\n",
      " |-- 2010: double (nullable = true)\n",
      " |-- 2011: double (nullable = true)\n",
      " |-- 2012: double (nullable = true)\n",
      " |-- 2013: double (nullable = true)\n",
      " |-- 2014: double (nullable = true)\n",
      " |-- 2015: double (nullable = true)\n",
      " |-- 2016: double (nullable = true)\n",
      " |-- 2017: double (nullable = true)\n",
      " |-- _c62: string (nullable = true)\n",
      "\n"
     ]
    }
   ],
   "source": [
    "indicators.printSchema()"
   ]
  },
  {
   "cell_type": "code",
   "execution_count": 12,
   "metadata": {},
   "outputs": [
    {
     "name": "stdout",
     "output_type": "stream",
     "text": [
      "+------------+------------+--------------------+--------------------+----+----+----+----+----+----+----+----+----+----+----------------+----------------+----------------+----------------+---------------+----------------+----------------+----------------+----------------+----------------+----------------+----------------+----------------+----------------+----------------+----------------+----------------+----------------+----------------+----------------+----------------+----------------+----------------+----------------+----------------+----------------+----------------+----------------+----------------+----------------+----------------+----------------+----------------+----------------+----------------+----------------+----------------+----------------+----------------+----------------+----------------+----------------+----------------+----------------+----------------+----------------+----------------+----------------+----+\n",
      "|Country Name|Country Code|      Indicator Name|      Indicator Code|1960|1961|1962|1963|1964|1965|1966|1967|1968|1969|            1970|            1971|            1972|            1973|           1974|            1975|            1976|            1977|            1978|            1979|            1980|            1981|            1982|            1983|            1984|            1985|            1986|            1987|            1988|            1989|            1990|            1991|            1992|            1993|            1994|            1995|            1996|            1997|            1998|            1999|            2000|            2001|            2002|            2003|            2004|            2005|            2006|            2007|            2008|            2009|            2010|            2011|            2012|            2013|            2014|            2015|            2016|            2017|_c62|\n",
      "+------------+------------+--------------------+--------------------+----+----+----+----+----+----+----+----+----+----+----------------+----------------+----------------+----------------+---------------+----------------+----------------+----------------+----------------+----------------+----------------+----------------+----------------+----------------+----------------+----------------+----------------+----------------+----------------+----------------+----------------+----------------+----------------+----------------+----------------+----------------+----------------+----------------+----------------+----------------+----------------+----------------+----------------+----------------+----------------+----------------+----------------+----------------+----------------+----------------+----------------+----------------+----------------+----------------+----------------+----------------+----------------+----------------+----+\n",
      "|  Arab World|         ARB|2005 PPP conversi...|       PA.NUS.PPP.05|null|null|null|null|null|null|null|null|null|null|            null|            null|            null|            null|           null|            null|            null|            null|            null|            null|            null|            null|            null|            null|            null|            null|            null|            null|            null|            null|            null|            null|            null|            null|            null|            null|            null|            null|            null|            null|            null|            null|            null|            null|            null|            null|            null|            null|            null|            null|            null|            null|            null|            null|            null|            null|            null|            null|null|\n",
      "|  Arab World|         ARB|2005 PPP conversi...|   PA.NUS.PRVT.PP.05|null|null|null|null|null|null|null|null|null|null|            null|            null|            null|            null|           null|            null|            null|            null|            null|            null|            null|            null|            null|            null|            null|            null|            null|            null|            null|            null|            null|            null|            null|            null|            null|            null|            null|            null|            null|            null|            null|            null|            null|            null|            null|            null|            null|            null|            null|            null|            null|            null|            null|            null|            null|            null|            null|            null|null|\n",
      "|  Arab World|         ARB|Access to clean f...|      EG.CFT.ACCS.ZS|null|null|null|null|null|null|null|null|null|null|            null|            null|            null|            null|           null|            null|            null|            null|            null|            null|            null|            null|            null|            null|            null|            null|            null|            null|            null|            null|            null|            null|            null|            null|            null|            null|            null|            null|            null|            null| 73.675897797943|74.9280588357476|76.2554004102489|77.1298045373055|78.1141445764652|79.0898588375658| 79.883248963943|80.6034013849682|81.2438972716057|  81.84498227857|82.4076472791078|82.8276357033548|83.1692269857806|83.5871408665586|83.9542934732646| 84.230629504104|84.5704252021265|            null|null|\n",
      "|  Arab World|         ARB|Access to electri...|      EG.ELC.ACCS.ZS|null|null|null|null|null|null|null|null|null|null|            null|            null|            null|            null|           null|            null|            null|            null|            null|            null|            null|            null|            null|            null|            null|            null|            null|            null|            null|            null|74.3842390444175|74.3822200880162|74.3131602867208|75.3493248355472|75.7885216921504|76.2141379719731|77.2051498724772|77.5737299371645|78.3955110511858|78.9655316665757|78.7623297831137|80.1492565068256|80.3599784304366|81.3547876429119|82.6624023433797|83.6875762079726|85.8002961272357|84.7357232408233|85.4328268149662|85.1898151220048|86.1361336464124| 86.782683284186|87.2882439402148|88.3897051476481|88.0767741380158|88.5179673938546|88.7686540243445|            null|null|\n",
      "|  Arab World|         ARB|Access to electri...|   EG.ELC.ACCS.RU.ZS|null|null|null|null|null|null|null|null|null|null|            null|            null|            null|            null|           null|            null|            null|            null|            null|            null|            null|            null|            null|            null|            null|            null|            null|            null|            null|            null|57.7702734418194|61.4056985848899|61.9605924465679|63.0470976442634|63.5731154004934|64.0369009838667|65.5282276035442|66.1593441562908|67.5468077411415| 68.441797789804|66.7855931873551|69.4640099074943|67.1645182750974|68.6080130628422|69.0798161762943|69.0895799883127|74.5315722853877|71.7527635211189|73.4604001101045| 73.541696192245|74.5074704887587|75.6527117891417|76.6283199886371|   78.6637363691|77.4390658396566|78.3555195560591|78.7432067277372|            null|null|\n",
      "|  Arab World|         ARB|Access to electri...|   EG.ELC.ACCS.UR.ZS|null|null|null|null|null|null|null|null|null|null|            null|            null|            null|            null|           null|            null|            null|            null|            null|            null|            null|            null|            null|            null|            null|            null|            null|            null|            null|            null|92.2664703197508|92.2322371405435|91.5472911904524|92.3637766703964|92.5576072476574|92.7841882250395|92.9867989281968|93.1178654122989|93.2895797182541|  93.42636989257|94.2535315646078| 93.745236542973|93.7807882412244|94.0456389157644|94.8168290269496| 94.783179316267|95.6261146429624|95.4173880129109|95.6096985103425|95.0882901085539|95.8415332880846|96.0331013273216|96.0606270759705|96.4465815941375| 96.481227588704|96.6414074772582|96.7732841154726|            null|null|\n",
      "|  Arab World|         ARB|Account ownership...|      FX.OWN.TOTL.ZS|null|null|null|null|null|null|null|null|null|null|            null|            null|            null|            null|           null|            null|            null|            null|            null|            null|            null|            null|            null|            null|            null|            null|            null|            null|            null|            null|            null|            null|            null|            null|            null|            null|            null|            null|            null|            null|            null|            null|            null|            null|            null|            null|            null|            null|            null|            null|            null|22.2605381011963|            null|            null|30.2771301269531|            null|            null| 37.165210723877|null|\n",
      "|  Arab World|         ARB|Account ownership...|   FX.OWN.TOTL.FE.ZS|null|null|null|null|null|null|null|null|null|null|            null|            null|            null|            null|           null|            null|            null|            null|            null|            null|            null|            null|            null|            null|            null|            null|            null|            null|            null|            null|            null|            null|            null|            null|            null|            null|            null|            null|            null|            null|            null|            null|            null|            null|            null|            null|            null|            null|            null|            null|            null|13.7758150100708|            null|            null|22.0793495178223|            null|            null|25.6354026794434|null|\n",
      "|  Arab World|         ARB|Account ownership...|   FX.OWN.TOTL.MA.ZS|null|null|null|null|null|null|null|null|null|null|            null|            null|            null|            null|           null|            null|            null|            null|            null|            null|            null|            null|            null|            null|            null|            null|            null|            null|            null|            null|            null|            null|            null|            null|            null|            null|            null|            null|            null|            null|            null|            null|            null|            null|            null|            null|            null|            null|            null|            null|            null|30.3776683807373|            null|            null|37.7907638549805|            null|            null|48.3285179138184|null|\n",
      "|  Arab World|         ARB|Account ownership...|   FX.OWN.TOTL.OL.ZS|null|null|null|null|null|null|null|null|null|null|            null|            null|            null|            null|           null|            null|            null|            null|            null|            null|            null|            null|            null|            null|            null|            null|            null|            null|            null|            null|            null|            null|            null|            null|            null|            null|            null|            null|            null|            null|            null|            null|            null|            null|            null|            null|            null|            null|            null|            null|            null|25.7412853240967|            null|            null|34.2165832519531|            null|            null|42.5420455932617|null|\n",
      "|  Arab World|         ARB|Account ownership...|   FX.OWN.TOTL.40.ZS|null|null|null|null|null|null|null|null|null|null|            null|            null|            null|            null|           null|            null|            null|            null|            null|            null|            null|            null|            null|            null|            null|            null|            null|            null|            null|            null|            null|            null|            null|            null|            null|            null|            null|            null|            null|            null|            null|            null|            null|            null|            null|            null|            null|            null|            null|            null|            null|16.0677814483643|            null|            null|22.7798900604248|            null|            null| 27.724781036377|null|\n",
      "|  Arab World|         ARB|Account ownership...|   FX.OWN.TOTL.PL.ZS|null|null|null|null|null|null|null|null|null|null|            null|            null|            null|            null|           null|            null|            null|            null|            null|            null|            null|            null|            null|            null|            null|            null|            null|            null|            null|            null|            null|            null|            null|            null|            null|            null|            null|            null|            null|            null|            null|            null|            null|            null|            null|            null|            null|            null|            null|            null|            null|14.0516595840454|            null|            null|21.2780418395996|            null|            null|26.4581108093262|null|\n",
      "|  Arab World|         ARB|Account ownership...|   FX.OWN.TOTL.60.ZS|null|null|null|null|null|null|null|null|null|null|            null|            null|            null|            null|           null|            null|            null|            null|            null|            null|            null|            null|            null|            null|            null|            null|            null|            null|            null|            null|            null|            null|            null|            null|            null|            null|            null|            null|            null|            null|            null|            null|            null|            null|            null|            null|            null|            null|            null|            null|            null| 26.421085357666|            null|            null|35.2374801635742|            null|            null|43.4469528198242|null|\n",
      "|  Arab World|         ARB|Account ownership...|   FX.OWN.TOTL.SO.ZS|null|null|null|null|null|null|null|null|null|null|            null|            null|            null|            null|           null|            null|            null|            null|            null|            null|            null|            null|            null|            null|            null|            null|            null|            null|            null|            null|            null|            null|            null|            null|            null|            null|            null|            null|            null|            null|            null|            null|            null|            null|            null|            null|            null|            null|            null|            null|            null|30.7071990966797|            null|            null|38.9006118774414|            null|            null|48.6669769287109|null|\n",
      "|  Arab World|         ARB|Account ownership...|   FX.OWN.TOTL.YG.ZS|null|null|null|null|null|null|null|null|null|null|            null|            null|            null|            null|           null|            null|            null|            null|            null|            null|            null|            null|            null|            null|            null|            null|            null|            null|            null|            null|            null|            null|            null|            null|            null|            null|            null|            null|            null|            null|            null|            null|            null|            null|            null|            null|            null|            null|            null|            null|            null|14.6108951568604|            null|            null|21.2561416625977|            null|            null|20.9547996520996|null|\n",
      "|  Arab World|         ARB|Adequacy of socia...|per_si_allsi.adq_...|null|null|null|null|null|null|null|null|null|null|            null|            null|            null|            null|           null|            null|            null|            null|            null|            null|            null|            null|            null|            null|            null|            null|            null|            null|            null|            null|            null|            null|            null|            null|            null|            null|            null|            null|            null|            null|            null|            null|            null|            null|            null|            null|            null|            null|            null|            null|            null|            null|            null|            null|            null|            null|            null|            null|null|\n",
      "|  Arab World|         ARB|Adequacy of socia...|per_allsp.adq_pop...|null|null|null|null|null|null|null|null|null|null|            null|            null|            null|            null|           null|            null|            null|            null|            null|            null|            null|            null|            null|            null|            null|            null|            null|            null|            null|            null|            null|            null|            null|            null|            null|            null|            null|            null|            null|            null|            null|            null|            null|            null|            null|            null|            null|            null|            null|            null|            null|            null|            null|            null|            null|            null|            null|            null|null|\n",
      "|  Arab World|         ARB|Adequacy of socia...|per_sa_allsa.adq_...|null|null|null|null|null|null|null|null|null|null|            null|            null|            null|            null|           null|            null|            null|            null|            null|            null|            null|            null|            null|            null|            null|            null|            null|            null|            null|            null|            null|            null|            null|            null|            null|            null|            null|            null|            null|            null|            null|            null|            null|            null|            null|            null|            null|            null|            null|            null|            null|            null|            null|            null|            null|            null|            null|            null|null|\n",
      "|  Arab World|         ARB|Adequacy of unemp...|per_lm_alllm.adq_...|null|null|null|null|null|null|null|null|null|null|            null|            null|            null|            null|           null|            null|            null|            null|            null|            null|            null|            null|            null|            null|            null|            null|            null|            null|            null|            null|            null|            null|            null|            null|            null|            null|            null|            null|            null|            null|            null|            null|            null|            null|            null|            null|            null|            null|            null|            null|            null|            null|            null|            null|            null|            null|            null|            null|null|\n",
      "|  Arab World|         ARB|Adjusted net enro...|         SE.PRM.TENR|null|null|null|null|null|null|null|null|null|null|56.0779418945313|56.1224594116211|57.4026298522949|58.4404792785645|59.099781036377|60.3622283935547|61.8695983886719|62.6663284301758|63.2907905578613|64.8497619628906|65.9476165771484|66.3245010375977|66.7827911376953|67.4405899047852|68.6646118164063|69.2316970825195|70.2025909423828|71.3419570922852|72.0261917114258|72.0573425292969|72.4477996826172|73.0613708496094|70.4872436523438| 70.890007019043|73.0130233764648|72.1166305541992|74.1185302734375|74.5353775024414|74.9633331298828|75.9685668945313|77.1651611328125|78.6640472412109|79.8807830810547|80.6300811767578|81.4215393066406|82.2005462646484|82.4462814331055|83.8013229370117|84.7026901245117| 84.963737487793|85.9678726196289|85.3022232055664|85.4420700073242|84.2383575439453|83.7264862060547|84.1135177612305|84.1214370727539|            null|null|\n",
      "+------------+------------+--------------------+--------------------+----+----+----+----+----+----+----+----+----+----+----------------+----------------+----------------+----------------+---------------+----------------+----------------+----------------+----------------+----------------+----------------+----------------+----------------+----------------+----------------+----------------+----------------+----------------+----------------+----------------+----------------+----------------+----------------+----------------+----------------+----------------+----------------+----------------+----------------+----------------+----------------+----------------+----------------+----------------+----------------+----------------+----------------+----------------+----------------+----------------+----------------+----------------+----------------+----------------+----------------+----------------+----------------+----------------+----+\n",
      "only showing top 20 rows\n",
      "\n"
     ]
    }
   ],
   "source": [
    "indicators.show()"
   ]
  },
  {
   "cell_type": "code",
   "execution_count": 13,
   "metadata": {},
   "outputs": [
    {
     "name": "stdout",
     "output_type": "stream",
     "text": [
      "+--------------------+-----+\n",
      "|        Country Name|count|\n",
      "+--------------------+-----+\n",
      "|          South Asia| 1591|\n",
      "|                Chad| 1591|\n",
      "| Lower middle income| 1591|\n",
      "|            Paraguay| 1591|\n",
      "| Low & middle income| 1591|\n",
      "|Heavily indebted ...| 1591|\n",
      "|               World| 1591|\n",
      "|    Congo, Dem. Rep.| 1591|\n",
      "|             Senegal| 1591|\n",
      "|East Asia & Pacif...| 1591|\n",
      "|          Cabo Verde| 1591|\n",
      "|              Sweden| 1591|\n",
      "|            Kiribati| 1591|\n",
      "|Least developed c...| 1591|\n",
      "|      Macedonia, FYR| 1591|\n",
      "|              Guyana| 1591|\n",
      "|Pacific island sm...| 1591|\n",
      "|             Eritrea| 1591|\n",
      "|         Philippines| 1591|\n",
      "|            Djibouti| 1591|\n",
      "+--------------------+-----+\n",
      "only showing top 20 rows\n",
      "\n"
     ]
    }
   ],
   "source": [
    "indicators.groupBy(\"Country Name\").count().show()"
   ]
  },
  {
   "cell_type": "code",
   "execution_count": 14,
   "metadata": {},
   "outputs": [
    {
     "name": "stdout",
     "output_type": "stream",
     "text": [
      "+--------------------+--------------------+\n",
      "|      Indicator Name|         country_set|\n",
      "+--------------------+--------------------+\n",
      "|Adjusted savings:...|[Sint Maarten (Du...|\n",
      "|Commitments, offi...|[Sint Maarten (Du...|\n",
      "|Completeness of i...|[Sint Maarten (Du...|\n",
      "|Educational attai...|[Sint Maarten (Du...|\n",
      "|Employers, female...|[Sint Maarten (Du...|\n",
      "|Forest area (% of...|[Sint Maarten (Du...|\n",
      "|People using safe...|[Sint Maarten (Du...|\n",
      "|Tariff rate, appl...|[Sint Maarten (Du...|\n",
      "|Trained teachers ...|[Sint Maarten (Du...|\n",
      "|Wage and salaried...|[Sint Maarten (Du...|\n",
      "|Coverage of socia...|[Sint Maarten (Du...|\n",
      "|Electricity produ...|[Sint Maarten (Du...|\n",
      "|PNG, bonds (NFL, ...|[Sint Maarten (Du...|\n",
      "|Portfolio investm...|[Sint Maarten (Du...|\n",
      "|Armed forces pers...|[Sint Maarten (Du...|\n",
      "|CPIA economic man...|[Sint Maarten (Du...|\n",
      "|Children out of s...|[Sint Maarten (Du...|\n",
      "|Commitments, priv...|[Sint Maarten (Du...|\n",
      "|Gross domestic sa...|[Sint Maarten (Du...|\n",
      "|Income share held...|[Sint Maarten (Du...|\n",
      "+--------------------+--------------------+\n",
      "only showing top 20 rows\n",
      "\n"
     ]
    }
   ],
   "source": [
    "indicators.groupBy(\"Indicator Name\").agg({\"Country Name\": \"collect_set\"}).withColumnRenamed(\"collect_set(Country Name)\", \"country_set\").show()"
   ]
  }
 ],
 "metadata": {
  "kernelspec": {
   "display_name": "Python 2",
   "language": "python",
   "name": "python2"
  },
  "language_info": {
   "codemirror_mode": {
    "name": "ipython",
    "version": 2
   },
   "file_extension": ".py",
   "mimetype": "text/x-python",
   "name": "python",
   "nbconvert_exporter": "python",
   "pygments_lexer": "ipython2",
   "version": "2.7.15"
  }
 },
 "nbformat": 4,
 "nbformat_minor": 2
}
